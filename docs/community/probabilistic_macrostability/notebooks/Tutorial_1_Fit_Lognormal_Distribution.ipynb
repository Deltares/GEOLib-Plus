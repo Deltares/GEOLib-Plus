{
 "cells": [
  {
   "cell_type": "markdown",
   "id": "3d6e2354-5f58-4bf4-9298-3cc54d22a99b",
   "metadata": {},
   "source": [
    "# Tutorial 1: Deriving Lognormal statistics from measurements\n",
    "This tutorial shows how to derive parameters of the Lognormal distribution using the Method of Moments, and by doing statistics on the logarithm of the values $ln(x)$. The tutorial covers the calculation of characteristic values, inclusing statistical uncertainty and (spatial) averaging. The following steps are discussed:\n",
    "1. Importing the dataset, interpreting the data\n",
    "2. Determine the sample mean and standard deviation\n",
    "3. Determine the Lognormal distribution parameter using the Method of Moments\n",
    "4. Determine the characteristic values\n",
    "5. Determine the inputs for D-Stability, taking into account the statistical uncertainty"
   ]
  },
  {
   "cell_type": "markdown",
   "id": "ea78533e-ea5d-467b-8710-e623e5e07274",
   "metadata": {},
   "source": [
    "# Step 1: Importing the dataset, and interpreting the data.\n",
    "In the next cells, we import the python packages necessary to run this tutorial. If the packages are not available, install them in your Python environment using `pip install <package_name> `"
   ]
  },
  {
   "cell_type": "code",
   "execution_count": 1,
   "id": "c7c87797-3f07-4a6a-b34e-5424554bffaa",
   "metadata": {},
   "outputs": [],
   "source": [
    "import numpy as np\n",
    "import scipy.stats as stats\n",
    "import pandas as pd\n",
    "import seaborn as sns\n",
    "import matplotlib.pyplot as plt"
   ]
  },
  {
   "cell_type": "markdown",
   "id": "1f767c2e-f042-44f2-a775-61afad2e2b52",
   "metadata": {},
   "source": [
    "Import the data using the Pandas package, and show the first 5 entries of the dataframe with the measurements"
   ]
  },
  {
   "cell_type": "code",
   "execution_count": 2,
   "id": "7797cfac-a4c9-4780-88c3-f2ee615f1d0e",
   "metadata": {},
   "outputs": [
    {
     "data": {
      "text/html": [
       "<div>\n",
       "<style scoped>\n",
       "    .dataframe tbody tr th:only-of-type {\n",
       "        vertical-align: middle;\n",
       "    }\n",
       "\n",
       "    .dataframe tbody tr th {\n",
       "        vertical-align: top;\n",
       "    }\n",
       "\n",
       "    .dataframe thead th {\n",
       "        text-align: right;\n",
       "    }\n",
       "</style>\n",
       "<table border=\"1\" class=\"dataframe\">\n",
       "  <thead>\n",
       "    <tr style=\"text-align: right;\">\n",
       "      <th></th>\n",
       "      <th>VolWeight</th>\n",
       "    </tr>\n",
       "  </thead>\n",
       "  <tbody>\n",
       "    <tr>\n",
       "      <th>0</th>\n",
       "      <td>17.17</td>\n",
       "    </tr>\n",
       "    <tr>\n",
       "      <th>1</th>\n",
       "      <td>18.16</td>\n",
       "    </tr>\n",
       "    <tr>\n",
       "      <th>2</th>\n",
       "      <td>19.05</td>\n",
       "    </tr>\n",
       "    <tr>\n",
       "      <th>3</th>\n",
       "      <td>17.50</td>\n",
       "    </tr>\n",
       "    <tr>\n",
       "      <th>4</th>\n",
       "      <td>17.57</td>\n",
       "    </tr>\n",
       "    <tr>\n",
       "      <th>5</th>\n",
       "      <td>20.26</td>\n",
       "    </tr>\n",
       "    <tr>\n",
       "      <th>6</th>\n",
       "      <td>18.64</td>\n",
       "    </tr>\n",
       "    <tr>\n",
       "      <th>7</th>\n",
       "      <td>18.35</td>\n",
       "    </tr>\n",
       "    <tr>\n",
       "      <th>8</th>\n",
       "      <td>17.18</td>\n",
       "    </tr>\n",
       "    <tr>\n",
       "      <th>9</th>\n",
       "      <td>15.58</td>\n",
       "    </tr>\n",
       "    <tr>\n",
       "      <th>10</th>\n",
       "      <td>17.35</td>\n",
       "    </tr>\n",
       "    <tr>\n",
       "      <th>11</th>\n",
       "      <td>19.52</td>\n",
       "    </tr>\n",
       "    <tr>\n",
       "      <th>12</th>\n",
       "      <td>22.01</td>\n",
       "    </tr>\n",
       "    <tr>\n",
       "      <th>13</th>\n",
       "      <td>17.36</td>\n",
       "    </tr>\n",
       "    <tr>\n",
       "      <th>14</th>\n",
       "      <td>21.16</td>\n",
       "    </tr>\n",
       "  </tbody>\n",
       "</table>\n",
       "</div>"
      ],
      "text/plain": [
       "    VolWeight\n",
       "0       17.17\n",
       "1       18.16\n",
       "2       19.05\n",
       "3       17.50\n",
       "4       17.57\n",
       "5       20.26\n",
       "6       18.64\n",
       "7       18.35\n",
       "8       17.18\n",
       "9       15.58\n",
       "10      17.35\n",
       "11      19.52\n",
       "12      22.01\n",
       "13      17.36\n",
       "14      21.16"
      ]
     },
     "execution_count": 2,
     "metadata": {},
     "output_type": "execute_result"
    }
   ],
   "source": [
    "# The headers are automatically taken as column names.\n",
    "df = pd.read_csv(\"input_volumetricweight_testresults.txt\", sep=\",\")\n",
    "df"
   ]
  },
  {
   "cell_type": "markdown",
   "id": "1b0087a0-cfc0-48de-af72-1110a6dc56c8",
   "metadata": {},
   "source": [
    "Get our measurements in a numpy array `x`, and plot the histogram of the data."
   ]
  },
  {
   "cell_type": "code",
   "execution_count": 3,
   "id": "29df15d0-95d1-4dc3-97fa-1d7add43652d",
   "metadata": {},
   "outputs": [
    {
     "data": {
      "image/png": "[encoded data removed]",
      "text/plain": [
       "<Figure size 432x288 with 1 Axes>"
      ]
     },
     "metadata": {
      "needs_background": "light"
     },
     "output_type": "display_data"
    }
   ],
   "source": [
    "x = df['VolWeight'].to_numpy()\n",
    "sns.histplot(x, bins=5)\n",
    "plt.show()"
   ]
  },
  {
   "cell_type": "markdown",
   "id": "db16650b-5dbd-4df1-972e-c0dd2864c61e",
   "metadata": {},
   "source": [
    "## Step 2: Sample mean and sample standard deviation of the data set"
   ]
  },
  {
   "cell_type": "markdown",
   "id": "0bceb3ff-f992-40f4-89c4-cab1fee80020",
   "metadata": {},
   "source": [
    "#### Step 2a: Calculate the mean and standard deviation of the 'real' values"
   ]
  },
  {
   "cell_type": "code",
   "execution_count": 4,
   "id": "cc427907-a798-44b3-baf3-33e8faef9e97",
   "metadata": {},
   "outputs": [
    {
     "name": "stdout",
     "output_type": "stream",
     "text": [
      "Mean and standard deviation of x\n",
      "Sample mean = \t\t\t18.46\n",
      "Sample std = \t\t\t1.701\n",
      "Coefficient of variation cov = \t0.092\n"
     ]
    }
   ],
   "source": [
    "# First set up a function to calculate.\n",
    "def calculate_mean_and_std(x):\n",
    "    sample_mean = np.mean(x)\n",
    "    sample_std = np.std(x, ddof=1)\n",
    "    cov = sample_std/sample_mean\n",
    "\n",
    "    print('Sample mean = \\t\\t\\t%0.2f'%(sample_mean))\n",
    "    print('Sample std = \\t\\t\\t%0.3f'%(sample_std))\n",
    "    print('Coefficient of variation cov = \\t%0.3f'%(cov))\n",
    "    \n",
    "    return sample_mean, sample_std\n",
    "\n",
    "# Now calculate the mean and std with that function\n",
    "print('Mean and standard deviation of x')\n",
    "mu, sigma = calculate_mean_and_std(x)"
   ]
  },
  {
   "cell_type": "markdown",
   "id": "aa136114-ade9-49d5-9bb5-afe34e745d6b",
   "metadata": {},
   "source": [
    "#### Step 2b: Calculate the mean and standard deviation of the logarithmic values"
   ]
  },
  {
   "cell_type": "code",
   "execution_count": 5,
   "id": "4229b478-a6ad-47a2-a9b2-4c8e51b0b1b5",
   "metadata": {},
   "outputs": [
    {
     "name": "stdout",
     "output_type": "stream",
     "text": [
      "Mean and standard deviation of ln(x)\n",
      "Sample mean = \t\t\t2.91\n",
      "Sample std = \t\t\t0.090\n",
      "Coefficient of variation cov = \t0.031\n"
     ]
    }
   ],
   "source": [
    "# Here we do almost exactly the same, however, we \n",
    "# calculate the mean and std of log(x) \n",
    "print('Mean and standard deviation of ln(x)')\n",
    "m, s = calculate_mean_and_std( np.log(x) )"
   ]
  },
  {
   "cell_type": "markdown",
   "id": "737c2944-1595-44ac-8329-dfd020e4f3b4",
   "metadata": {},
   "source": [
    "## Step 3: Fitted Lognormal Distribution using method of moments (MoM)"
   ]
  },
  {
   "cell_type": "markdown",
   "id": "d767058a-1345-440f-ad2b-c3486752cbba",
   "metadata": {},
   "source": [
    "First we introduce two functions. \n",
    "\n",
    "1. The first `lognormal_parameters_from_mu_sigma(mu_x, sigma_x, shift)` transforms the mean and standard deviation of x (i.e. the first and second moment, respectively) into the parameters of the Lognormal distribution.\n",
    "2. The second `mu_sigma_from_lognormal_parameters(mu_y, sigma_y, shift)` does the exact opposite: it transforms the parameters of the Lognormal distribution into the mean and standard deviation of x."
   ]
  },
  {
   "cell_type": "code",
   "execution_count": 6,
   "id": "d945bfc3-90d4-4ca6-822a-a34b98697823",
   "metadata": {},
   "outputs": [],
   "source": [
    "def lognormal_parameters_from_mu_sigma(mu, sigma, shift=0):\n",
    "    \"\"\"\n",
    "    Convention: a Lognormal distribution of X, \n",
    "    means that Y = ln(X) is normally distributed. \n",
    "    INPUT\n",
    "        mu = mean(X)\n",
    "        sigma = std(X)\n",
    "        shift = default 0\n",
    "    OUTPUT\n",
    "        m = mean(Y)\n",
    "        s = stdev(Y)\n",
    "        shift \n",
    "    \"\"\"\n",
    "    m = np.log( (mu - shift)**2 / np.sqrt(sigma**2 + (mu - shift)**2) )\n",
    "    s = np.sqrt( np.log(sigma**2 / (mu - shift)**2 + 1))\n",
    "    return m, s, shift\n",
    "\n",
    "def mu_sigma_from_lognormal_parameters(m,s,shift=0):\n",
    "    \"\"\"\n",
    "    Convention: a Lognormal distribution of X, \n",
    "    means that Y = ln(X) is normally distributed. \n",
    "    INPUT\n",
    "        m = mean(Y)\n",
    "        s = std(Y)\n",
    "        shift = default 0\n",
    "    OUTPUT\n",
    "        mu = mean(X)\n",
    "        sigma = std(X)\n",
    "        shift = default 0 \n",
    "    \"\"\"\n",
    "    mu = np.exp(m + s**2 / 2) + shift\n",
    "    sigma = np.sqrt((mu - shift)**2 * (np.exp(s**2) - 1))\n",
    "    return mu, sigma, shift"
   ]
  },
  {
   "cell_type": "markdown",
   "id": "15e1f12a-0759-40bb-9f00-bed41fc4cde6",
   "metadata": {},
   "source": [
    "To transform the mean and standard deviation (the first and second moment, respectively) into the parameters of the Lognormal distribution, we call the function. Then we print the result."
   ]
  },
  {
   "cell_type": "code",
   "execution_count": 7,
   "id": "95e5fbef-1cca-4141-a87c-7c71d3d17fd7",
   "metadata": {},
   "outputs": [
    {
     "name": "stdout",
     "output_type": "stream",
     "text": [
      "Location, scale, and shift parameters of theLognormal distribution (Y=log(X)) are: \n",
      "m_Y = \t\t2.91\n",
      "s_Y = \t\t0.092\n",
      "shift_Y =\t0.0 \n"
     ]
    }
   ],
   "source": [
    "# Assume the lognormal is not shifted (shift=0)\n",
    "shift=0\n",
    "m, s, shift = lognormal_parameters_from_mu_sigma(mu, sigma, shift)\n",
    "print('Location, scale, and shift parameters of the\\\n",
    "Lognormal distribution (Y=log(X)) are: \\n\\\n",
    "m_Y = \\t\\t%0.2f\\n\\\n",
    "s_Y = \\t\\t%0.3f\\n\\\n",
    "shift_Y =\\t%0.1f '%(m,s,shift))"
   ]
  },
  {
   "cell_type": "markdown",
   "id": "48fecb49-e1b9-4ecd-a249-6264a5d5f94c",
   "metadata": {},
   "source": [
    "The next step is to check the other formula for 'the other way around' (parameters of the Lognormal distribution -> mean and standard deviation)."
   ]
  },
  {
   "cell_type": "code",
   "execution_count": 8,
   "id": "e9b45d82-e200-44b9-9575-c3956f3290be",
   "metadata": {},
   "outputs": [
    {
     "name": "stdout",
     "output_type": "stream",
     "text": [
      "Mean, standard deviation, and shift parameters of theLognormal distribution are:\n",
      "mu_X = \t\t18.46\n",
      "sigma_X = \t1.701\n",
      "shift_X =\t0.0 \n",
      "\n"
     ]
    }
   ],
   "source": [
    "# Assume the lognormal is not shifted (shift=0)\n",
    "shift=0\n",
    "mu, sigma, shift = mu_sigma_from_lognormal_parameters(m,s,shift)\n",
    "print('Mean, standard deviation, and shift parameters of the\\\n",
    "Lognormal distribution are:\\n\\\n",
    "mu_X = \\t\\t%0.2f\\n\\\n",
    "sigma_X = \\t%0.3f\\n\\\n",
    "shift_X =\\t%0.1f \\n'%(mu,sigma,shift))"
   ]
  },
  {
   "cell_type": "markdown",
   "id": "7e628688-78c7-48f6-9a45-16048d9d9658",
   "metadata": {},
   "source": [
    "### Step 3c: Visual inspection of the results\n",
    "Now we can visulize the results. We first set up two functions for drawing the pdf of a normal and a lognormal. Then we call this function to make the plots we want."
   ]
  },
  {
   "cell_type": "code",
   "execution_count": 9,
   "id": "6f75872f-10ec-4820-883e-a65fd6e2ad30",
   "metadata": {},
   "outputs": [],
   "source": [
    "# First set up \n",
    "def plot_pdf_normal(ax, x_range, mu, sigma):\n",
    "    '''\n",
    "    Calculate the pdf values using the norm.pdf function.\n",
    "    Note that python uses the following terminology:\n",
    "      location (loc) = mean value\n",
    "      scale (scale) = standard deviation\n",
    "    '''\n",
    "    pdf_values = stats.norm.pdf(x_range, loc=mu, scale=sigma)\n",
    "    ax.plot(x_range, pdf_values, label='PDF normal distribution')\n",
    "    ax.set_label('Probability density (pdf)')\n",
    "    \n",
    "def plot_pdf_lognormal(ax, x_range, m, s, shift=0, label=''):\n",
    "    '''\n",
    "    Calculate the pdf values using the lognorm.pdf function.\n",
    "    Note that python uses the following terminology:\n",
    "      loc (location) = shift\n",
    "      scale (scale) = median value (where cdf=0.5 ) -> exp(m)\n",
    "      s (standard deviation) = s\n",
    "    '''\n",
    "    pdf_values = stats.lognorm.pdf(x_range, s=s, loc=shift, scale=np.exp(m))\n",
    "    ax.plot(x_range, pdf_values, label='PDF lognormal distribution '+label)\n",
    "    ax.set_label('Probability density (pdf)')\n",
    "    ax.set_ylim(0)\n",
    "    ax.legend(loc=1)"
   ]
  },
  {
   "cell_type": "code",
   "execution_count": 10,
   "id": "79f30545-0b9a-4b31-bd8b-14c441c0d34b",
   "metadata": {},
   "outputs": [
    {
     "data": {
      "image/png": "[encoded data removed]",
      "text/plain": [
       "<Figure size 432x288 with 1 Axes>"
      ]
     },
     "metadata": {
      "needs_background": "light"
     },
     "output_type": "display_data"
    }
   ],
   "source": [
    "# Plotting the histogram of the data \n",
    "ax = sns.histplot(df, bins=5, stat='density')\n",
    "\n",
    "# Set up an x range for plotting\n",
    "x_range = np.linspace(14,23,200)\n",
    "\n",
    "# Plot the pdf of the normal and lognormal distribution for \n",
    "# the xrange, using the above function.\n",
    "plot_pdf_normal(ax, x_range, mu, sigma)\n",
    "plot_pdf_lognormal(ax, x_range, m, s)"
   ]
  },
  {
   "cell_type": "markdown",
   "id": "0efeccbe-0c24-4722-9840-1ebdca95342c",
   "metadata": {},
   "source": [
    "#### Optional step 3d: Derive parameters for a shifted Lognormal distribution, with all values shifted to 14\n",
    "Note: this is an advanced step to show how a (manually shifted) lognormal distribution could be derived. To this end, we first shift all our data points 'to the left' with a value of 14 (assuming 14 is some kind of physical lower limit for this parameter). Then we derive the statistics for the lognormal parameter, and parse the shift=14 parameter to the plots. "
   ]
  },
  {
   "cell_type": "code",
   "execution_count": 11,
   "id": "8bcd7dfc-8ebe-413a-95f7-ce117e09f3b5",
   "metadata": {},
   "outputs": [
    {
     "name": "stdout",
     "output_type": "stream",
     "text": [
      "Sample mean = \t\t\t1.42\n",
      "Sample std = \t\t\t0.401\n",
      "Coefficient of variation cov = \t0.282\n"
     ]
    },
    {
     "data": {
      "image/png": "[encoded data removed]",
      "text/plain": [
       "<Figure size 432x288 with 1 Axes>"
      ]
     },
     "metadata": {
      "needs_background": "light"
     },
     "output_type": "display_data"
    }
   ],
   "source": [
    "# We assume 14 is a physical lower limit for our volumetric weight parameter\n",
    "shift = 14\n",
    "# Shift our measurements and derive the lognormal statistics. \n",
    "m_, s_ = calculate_mean_and_std( np.log(x - shift) )\n",
    "\n",
    "# Plot the histogram and the pdf of a shifted Lognormal distribution\n",
    "ax = sns.histplot(df, bins=5, stat='density')\n",
    "plot_pdf_normal(ax, x_range, mu, sigma)\n",
    "plot_pdf_lognormal(ax, x_range, m_, s_, shift)"
   ]
  },
  {
   "cell_type": "markdown",
   "id": "2b276089-24e9-4e85-9c5b-d6c64d90727e",
   "metadata": {},
   "source": [
    "## Step 4: Characteristic values"
   ]
  },
  {
   "cell_type": "markdown",
   "id": "cffabcba-f052-4efc-ad29-06e5a2afd426",
   "metadata": {},
   "source": [
    "#### Step 4a: Calculate the characteristic value with the Student-T factor.\n",
    "The number of measurements influences the statistical uncertainty of our estimated mean and standard deviation.\n",
    "Therefore we apply the Student-T factor to account for statistical uncertainty due to a small number of samples. The characteristic value is calculated as follows:\n",
    "\n",
    "$X_{char.,5\\%} = \\exp( m + t_{5\\%,n-1} \\cdot s \\cdot \\sqrt{ 1+ 1/n)}$ with $m$ and $s$ the lognormal parameters $\\mu_Y$ and $\\sigma_Y$."
   ]
  },
  {
   "cell_type": "code",
   "execution_count": 12,
   "id": "5154516a-b474-4953-9d4a-c87aa9211eca",
   "metadata": {},
   "outputs": [
    {
     "name": "stdout",
     "output_type": "stream",
     "text": [
      "t-value \t\t-1.76\n",
      "5p-char_value = \t15.55\n"
     ]
    }
   ],
   "source": [
    "n = len(df)\n",
    "student_t_factor = stats.t.ppf(0.05, df=n-1) # df = degrees of freedom, which is n-1\n",
    "print('t-value \\t\\t%0.2f'%(student_t_factor))\n",
    "\n",
    "# The 5%-characteristic value, using the t distributions, including\n",
    "# the statistical uncertainty in the estimated mean (s/sqrt(n))\n",
    "# Note the + sign before the student_t_factor, because student_t_factor is negative\n",
    "characteristic_value = np.exp(m + student_t_factor * s * np.sqrt( 1 + 1 / n ) )\n",
    "print(\"5p-char_value = \\t%0.2f\"%(characteristic_value))"
   ]
  },
  {
   "cell_type": "markdown",
   "id": "007c0a35-45e5-4dcc-92aa-e88d4ecb71f5",
   "metadata": {},
   "source": [
    "#### Step 4b: Calculate the characteristic value with and without spatial avaraging\n",
    "To account for spatial averaging the $\\Gamma^2$ (variance reduction) factor is introduced into the equation\n",
    "\n",
    "$X_{char.,5\\%} = \\exp( m + t_{5\\%,n-1} \\cdot s \\cdot \\sqrt{ \\Gamma^2+ 1/n)}$ with $m$ and $s$ the lognormal parameters $\\mu_Y$ and $\\sigma_Y$.\n",
    "\n",
    "Default assumptions on this factor are:\n",
    "- $\\Gamma^2 = 1.0$ : point values, no spatial averaging\n",
    "- $\\Gamma^2 = 0.25$ : estimate of the regional variability, assumption half of the variance averages.\n",
    "- $\\Gamma^2 = 0.0$ : spatial average, full spatial avaraging\n",
    "\n"
   ]
  },
  {
   "cell_type": "code",
   "execution_count": 13,
   "id": "3541ef64-eef5-45ed-8262-d42808cd61e6",
   "metadata": {},
   "outputs": [
    {
     "name": "stdout",
     "output_type": "stream",
     "text": [
      "gamma2: 5p-char_value = \t15.55\n",
      "gamma2: 5p-char_value = \t16.78\n",
      "gamma2: 5p-char_value = \t17.63\n"
     ]
    }
   ],
   "source": [
    "# Allocate a list to store multiple outcomes\n",
    "stored_values = []\n",
    "\n",
    "# Calculate the characteristic value for different choises of spatial averaging:\n",
    "gamma2_values = [1.0, 0.25, 0.0];\n",
    "for gamma2 in gamma2_values: \n",
    "    characteristic_value = np.exp(m + student_t_factor * s * np.sqrt( gamma2 + 1 / n ) )\n",
    "    print(\"gamma2: 5p-char_value = \\t%0.2f\"%(characteristic_value))\n",
    "    stored_values.append(characteristic_value)"
   ]
  },
  {
   "cell_type": "markdown",
   "id": "23b96350-3f76-4a87-9432-0889807639e0",
   "metadata": {},
   "source": [
    "#### Step 4c: Visually checking the results"
   ]
  },
  {
   "cell_type": "markdown",
   "id": "17b4e71c-76d8-40af-8cd4-01993d8a2b14",
   "metadata": {},
   "source": [
    "The results are visually checked with the histogram and the pdf's, showing the calculated characteristic value for the different asssumptions with a black vertical line and a colored dot."
   ]
  },
  {
   "cell_type": "code",
   "execution_count": 14,
   "id": "98d74f55-cee1-44b3-9797-33eb994f7657",
   "metadata": {},
   "outputs": [
    {
     "data": {
      "image/png": "[encoded data removed]",
      "text/plain": [
       "<Figure size 432x288 with 1 Axes>"
      ]
     },
     "metadata": {
      "needs_background": "light"
     },
     "output_type": "display_data"
    }
   ],
   "source": [
    "ax = sns.histplot(df, bins=5, stat='density')\n",
    "plot_pdf_normal(ax, x_range, mu, sigma)\n",
    "plot_pdf_lognormal(ax, x_range, m, s)\n",
    "\n",
    "for gamma2, value in zip( gamma2_values, stored_values):\n",
    "    plt.vlines(value, ymin=0, ymax= 0.1, color='k')\n",
    "    plt.scatter(value, 0.10, label=\"$\\Gamma ^{2}=%s$\"%(gamma2) )\n",
    "    \n",
    "plt.legend(fontsize='small', bbox_to_anchor=(1,0.95))\n",
    "plt.show()"
   ]
  },
  {
   "cell_type": "markdown",
   "id": "8a5d96a2-7b75-4ccf-aaf5-caa550c1f211",
   "metadata": {},
   "source": [
    "## Step 5: Get the inputs for D-Stability, taking into account the statistical uncertainty\n",
    "To correct the Lornormal standard deviation for the statistical uncertainty, we increase the std with a factor. \n",
    "\n",
    "This factor equals $t_{5\\%,n-1}/z_{5\\%}$, where $z_{5\\%}=-1.645$. "
   ]
  },
  {
   "cell_type": "markdown",
   "id": "8879e647-2cd4-4b48-9aac-e3ed6c4e75e8",
   "metadata": {},
   "source": [
    "#### Step 5a: For the uncertainty in the point values"
   ]
  },
  {
   "cell_type": "code",
   "execution_count": 15,
   "id": "06c2172f-1c88-4181-bbd1-03d390e82f13",
   "metadata": {},
   "outputs": [
    {
     "name": "stdout",
     "output_type": "stream",
     "text": [
      "Mean, standard deviation, and shift parameters of theLognormal distribution \n",
      "For D-Stability input:\n",
      "mu_X = \t\t18.47\n",
      "sigma_X = \t1.883\n",
      "shift_X =\t0.0 \n",
      "\n"
     ]
    }
   ],
   "source": [
    "correction_factor = student_t_factor / -1.645 \n",
    "s_point_incl_stat =  s * correction_factor * np.sqrt(1 + 1 / n)\n",
    "\n",
    "mu, sigma, shift = mu_sigma_from_lognormal_parameters(m,\n",
    "                                                      s_point_incl_stat,\n",
    "                                                      shift=0)\n",
    "print('Mean, standard deviation, and shift parameters of the\\\n",
    "Lognormal distribution \\n\\\n",
    "For D-Stability input:\\n\\\n",
    "mu_X = \\t\\t%0.2f\\n\\\n",
    "sigma_X = \\t%0.3f\\n\\\n",
    "shift_X =\\t%0.1f \\n'%(mu,sigma,shift))"
   ]
  },
  {
   "cell_type": "markdown",
   "id": "b4100ca1-092a-4ba5-bb5d-be89ca8684eb",
   "metadata": {},
   "source": [
    "#### Step 5b: For the uncertainty in the regional average"
   ]
  },
  {
   "cell_type": "code",
   "execution_count": 16,
   "id": "12050682-630e-4dc1-9033-bd7d79306f47",
   "metadata": {},
   "outputs": [
    {
     "name": "stdout",
     "output_type": "stream",
     "text": [
      "Mean, standard deviation, and shift parameters of theLognormal distribution \n",
      "For D-Stability input:\n",
      "mu_X = \t\t18.41\n",
      "sigma_X = \t1.021\n",
      "shift_X =\t0.0 \n",
      "\n"
     ]
    }
   ],
   "source": [
    "s_regional_average_incl_stat =  s * correction_factor * np.sqrt(0.25 + 1 / n)\n",
    "\n",
    "mu, sigma, shift = mu_sigma_from_lognormal_parameters(m,\n",
    "                                                      s_regional_average_incl_stat,\n",
    "                                                      shift=0)\n",
    "print('Mean, standard deviation, and shift parameters of the\\\n",
    "Lognormal distribution \\n\\\n",
    "For D-Stability input:\\n\\\n",
    "mu_X = \\t\\t%0.2f\\n\\\n",
    "sigma_X = \\t%0.3f\\n\\\n",
    "shift_X =\\t%0.1f \\n'%(mu,sigma,shift))"
   ]
  },
  {
   "cell_type": "markdown",
   "id": "0846ba97-e8eb-42d8-8bcd-35169271c475",
   "metadata": {},
   "source": [
    "#### Step 5c: For the uncertainty in the spatial average"
   ]
  },
  {
   "cell_type": "code",
   "execution_count": 17,
   "id": "f87f7a4d-6318-43aa-9bcc-81a8844417a8",
   "metadata": {},
   "outputs": [
    {
     "name": "stdout",
     "output_type": "stream",
     "text": [
      "Mean, standard deviation, and shift parameters of theLognormal distribution \n",
      "For D-Stability input:\n",
      "mu_X = \t\t18.39\n",
      "sigma_X = \t0.467\n",
      "shift_X =\t0.0 \n",
      "\n"
     ]
    }
   ],
   "source": [
    "s_spatial_average_incl_stat =  s * correction_factor * np.sqrt(1 / n)\n",
    "\n",
    "mu, sigma, shift = mu_sigma_from_lognormal_parameters(m,\n",
    "                                                      s_spatial_average_incl_stat,\n",
    "                                                      shift=0)\n",
    "print('Mean, standard deviation, and shift parameters of the\\\n",
    "Lognormal distribution \\n\\\n",
    "For D-Stability input:\\n\\\n",
    "mu_X = \\t\\t%0.2f\\n\\\n",
    "sigma_X = \\t%0.3f\\n\\\n",
    "shift_X =\\t%0.1f \\n'%(mu,sigma,shift))"
   ]
  },
  {
   "cell_type": "markdown",
   "id": "542ad935-0bf9-4f68-b86f-1c61867057c8",
   "metadata": {},
   "source": [
    "#### Step 5d: Visualize the results"
   ]
  },
  {
   "cell_type": "code",
   "execution_count": 18,
   "id": "f2dda0f5-0e95-40b4-8b1e-8f04997bf873",
   "metadata": {},
   "outputs": [
    {
     "data": {
      "image/png": "[encoded data removed]",
      "text/plain": [
       "<Figure size 432x288 with 1 Axes>"
      ]
     },
     "metadata": {
      "needs_background": "light"
     },
     "output_type": "display_data"
    }
   ],
   "source": [
    "ax = sns.histplot(df, bins=5, stat='density')\n",
    "plot_pdf_lognormal(ax, x_range, m, s_point_incl_stat, \n",
    "                   label='point statistics')\n",
    "plot_pdf_lognormal(ax, x_range, m, s_regional_average_incl_stat, \n",
    "                   label='regional average')\n",
    "plot_pdf_lognormal(ax, x_range, m, s_spatial_average_incl_stat, \n",
    "                   label='spatial average')\n",
    "\n",
    "colors=['tab:blue', 'tab:orange', 'tab:green']\n",
    "for i, (gamma2, value) in enumerate(zip( gamma2_values, stored_values)):\n",
    "    plt.vlines(value, ymin=0, ymax=0.5, color=colors[i], label=\"Characteristic value with $\\Gamma ^{2}=%s$\"%(gamma2) )\n",
    "plt.legend(bbox_to_anchor=(1.05,1))\n",
    "plt.ylim([0,1])\n",
    "plt.show()"
   ]
  }
 ],
 "metadata": {
  "kernelspec": {
   "display_name": "Python 3 (ipykernel)",
   "language": "python",
   "name": "python3"
  },
  "language_info": {
   "codemirror_mode": {
    "name": "ipython",
    "version": 3
   },
   "file_extension": ".py",
   "mimetype": "text/x-python",
   "name": "python",
   "nbconvert_exporter": "python",
   "pygments_lexer": "ipython3",
   "version": "3.10.0"
  }
 },
 "nbformat": 4,
 "nbformat_minor": 5
}
